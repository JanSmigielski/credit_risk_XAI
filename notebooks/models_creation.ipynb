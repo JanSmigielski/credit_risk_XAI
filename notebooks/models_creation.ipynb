{
 "cells": [
  {
   "cell_type": "code",
   "execution_count": 41,
   "metadata": {},
   "outputs": [],
   "source": [
    "import numpy as np\n",
    "import pandas as pd\n",
    "import statsmodels.api as sm\n",
    "from sklearn.metrics import roc_auc_score, roc_curve, confusion_matrix, classification_report, precision_recall_curve, auc, f1_score\n",
    "from pathlib import Path\n",
    "from xgboost import XGBClassifier\n",
    "from sklearn.model_selection import RandomizedSearchCV, GridSearchCV \n",
    "from scipy.stats import randint, uniform\n",
    "import pickle\n",
    "\n",
    "DATA_PATH = Path(\"data/processed\")"
   ]
  },
  {
   "cell_type": "code",
   "execution_count": null,
   "metadata": {},
   "outputs": [],
   "source": [
    "# Reading the data and preparing dependent and independent variables \n",
    "df = pd.read_csv(DATA_PATH / 'train.csv')\n",
    "X = df.drop(columns=['Unnamed: 0', 'into_default'])\n",
    "y = df['into_default']"
   ]
  },
  {
   "cell_type": "markdown",
   "metadata": {},
   "source": [
    "# Logistic Regression"
   ]
  },
  {
   "cell_type": "code",
   "execution_count": 43,
   "metadata": {},
   "outputs": [
    {
     "name": "stdout",
     "output_type": "stream",
     "text": [
      "Optimization terminated successfully.\n",
      "         Current function value: 0.228838\n",
      "         Iterations 9\n",
      "                           Logit Regression Results                           \n",
      "==============================================================================\n",
      "Dep. Variable:           into_default   No. Observations:                33986\n",
      "Model:                          Logit   Df Residuals:                    33974\n",
      "Method:                           MLE   Df Model:                           11\n",
      "Date:                Thu, 29 May 2025   Pseudo R-squ.:                 0.03875\n",
      "Time:                        15:59:24   Log-Likelihood:                -7777.3\n",
      "converged:                       True   LL-Null:                       -8090.8\n",
      "Covariance Type:            nonrobust   LLR p-value:                2.246e-127\n",
      "===============================================================================================================\n",
      "                                                  coef    std err          z      P>|z|      [0.025      0.975]\n",
      "---------------------------------------------------------------------------------------------------------------\n",
      "const                                          -1.9018      0.065    -29.467      0.000      -2.028      -1.775\n",
      "Aktywa razem/Kapitał własnyj (%)             5.136e-05   2.02e-05      2.544      0.011    1.18e-05    9.09e-05\n",
      "Wskaźnik rotacji kapitału obrotowego (x)    -1.892e-06   1.05e-05     -0.179      0.858   -2.26e-05    1.88e-05\n",
      "Kapitał obrotowy                            -2.914e-07   2.44e-08    -11.942      0.000   -3.39e-07   -2.44e-07\n",
      "Obrót aktywów bieżących (x)                 -5.345e-05      0.000     -0.242      0.809      -0.000       0.000\n",
      "Gotówka netto                               -1.938e-07   1.26e-08    -15.427      0.000   -2.18e-07   -1.69e-07\n",
      "Stopa zwrotu z kapitału własnego (ROE) (%)     -0.0002   6.07e-05     -2.562      0.010      -0.000   -3.65e-05\n",
      "Kapitał własny ogółem                       -1.043e-07   9.87e-09    -10.574      0.000   -1.24e-07    -8.5e-08\n",
      "Wskaźnik rotacji aktywów (x)                    0.0004      0.001      0.681      0.496      -0.001       0.002\n",
      "Operacyjny wskaźnik rentowności aktywów (%)    -0.0002   8.18e-05     -2.278      0.023      -0.000    -2.6e-05\n",
      "Zwrot z kapitału zaangażowanego (%)             0.0002      8e-05      2.721      0.006    6.09e-05       0.000\n",
      "Wiek firmy (lata)                              -0.0376      0.004     -9.313      0.000      -0.045      -0.030\n",
      "===============================================================================================================\n"
     ]
    }
   ],
   "source": [
    "X_const = sm.add_constant(X)\n",
    "\n",
    "# Logistic regression fitting \n",
    "logit_model = sm.Logit(y, X_const)\n",
    "result = logit_model.fit()\n",
    "\n",
    "# Displaying summary of the model \n",
    "print(result.summary())"
   ]
  },
  {
   "cell_type": "markdown",
   "metadata": {},
   "source": [
    "### General To Specific Approach "
   ]
  },
  {
   "cell_type": "code",
   "execution_count": 44,
   "metadata": {},
   "outputs": [
    {
     "name": "stdout",
     "output_type": "stream",
     "text": [
      "Optimization terminated successfully.\n",
      "         Current function value: 0.228838\n",
      "         Iterations 9\n",
      "                           Logit Regression Results                           \n",
      "==============================================================================\n",
      "Dep. Variable:           into_default   No. Observations:                33986\n",
      "Model:                          Logit   Df Residuals:                    33975\n",
      "Method:                           MLE   Df Model:                           10\n",
      "Date:                Thu, 29 May 2025   Pseudo R-squ.:                 0.03875\n",
      "Time:                        15:59:26   Log-Likelihood:                -7777.3\n",
      "converged:                       True   LL-Null:                       -8090.8\n",
      "Covariance Type:            nonrobust   LLR p-value:                2.811e-128\n",
      "===============================================================================================================\n",
      "                                                  coef    std err          z      P>|z|      [0.025      0.975]\n",
      "---------------------------------------------------------------------------------------------------------------\n",
      "const                                          -1.9018      0.065    -29.467      0.000      -2.028      -1.775\n",
      "Aktywa razem/Kapitał własnyj (%)              5.11e-05   2.01e-05      2.537      0.011    1.16e-05    9.06e-05\n",
      "Kapitał obrotowy                            -2.914e-07   2.44e-08    -11.941      0.000   -3.39e-07   -2.44e-07\n",
      "Obrót aktywów bieżących (x)                 -5.338e-05      0.000     -0.242      0.809      -0.000       0.000\n",
      "Gotówka netto                               -1.938e-07   1.26e-08    -15.427      0.000   -2.18e-07   -1.69e-07\n",
      "Stopa zwrotu z kapitału własnego (ROE) (%)     -0.0002   6.05e-05     -2.555      0.011      -0.000    -3.6e-05\n",
      "Kapitał własny ogółem                       -1.043e-07   9.87e-09    -10.574      0.000   -1.24e-07    -8.5e-08\n",
      "Wskaźnik rotacji aktywów (x)                    0.0004      0.001      0.677      0.499      -0.001       0.002\n",
      "Operacyjny wskaźnik rentowności aktywów (%)    -0.0002   8.15e-05     -2.271      0.023      -0.000   -2.53e-05\n",
      "Zwrot z kapitału zaangażowanego (%)             0.0002   7.97e-05      2.716      0.007    6.02e-05       0.000\n",
      "Wiek firmy (lata)                              -0.0376      0.004     -9.312      0.000      -0.045      -0.030\n",
      "===============================================================================================================\n"
     ]
    }
   ],
   "source": [
    "# Dropping feature with highest p-value\n",
    "X = df.drop(columns=['Unnamed: 0', 'into_default', 'Wskaźnik rotacji kapitału obrotowego (x)'])\n",
    "X_const = sm.add_constant(X)\n",
    "y = df['into_default']\n",
    "# Logistic regression fitting \n",
    "logit_model = sm.Logit(y, X_const)\n",
    "result = logit_model.fit()\n",
    "\n",
    "# Displaying summary of the model \n",
    "print(result.summary())"
   ]
  },
  {
   "cell_type": "code",
   "execution_count": 45,
   "metadata": {},
   "outputs": [
    {
     "name": "stdout",
     "output_type": "stream",
     "text": [
      "Optimization terminated successfully.\n",
      "         Current function value: 0.228841\n",
      "         Iterations 9\n",
      "                           Logit Regression Results                           \n",
      "==============================================================================\n",
      "Dep. Variable:           into_default   No. Observations:                33986\n",
      "Model:                          Logit   Df Residuals:                    33976\n",
      "Method:                           MLE   Df Model:                            9\n",
      "Date:                Thu, 29 May 2025   Pseudo R-squ.:                 0.03874\n",
      "Time:                        15:59:28   Log-Likelihood:                -7777.4\n",
      "converged:                       True   LL-Null:                       -8090.8\n",
      "Covariance Type:            nonrobust   LLR p-value:                3.600e-129\n",
      "===============================================================================================================\n",
      "                                                  coef    std err          z      P>|z|      [0.025      0.975]\n",
      "---------------------------------------------------------------------------------------------------------------\n",
      "const                                          -1.9018      0.065    -29.467      0.000      -2.028      -1.775\n",
      "Aktywa razem/Kapitał własnyj (%)              5.11e-05   2.01e-05      2.537      0.011    1.16e-05    9.06e-05\n",
      "Kapitał obrotowy                            -2.914e-07   2.44e-08    -11.940      0.000   -3.39e-07   -2.44e-07\n",
      "Gotówka netto                               -1.938e-07   1.26e-08    -15.427      0.000   -2.18e-07   -1.69e-07\n",
      "Stopa zwrotu z kapitału własnego (ROE) (%)     -0.0002   6.05e-05     -2.555      0.011      -0.000    -3.6e-05\n",
      "Kapitał własny ogółem                       -1.044e-07   9.87e-09    -10.575      0.000   -1.24e-07    -8.5e-08\n",
      "Wskaźnik rotacji aktywów (x)                    0.0004      0.001      0.632      0.527      -0.001       0.002\n",
      "Operacyjny wskaźnik rentowności aktywów (%)    -0.0002   8.15e-05     -2.270      0.023      -0.000   -2.53e-05\n",
      "Zwrot z kapitału zaangażowanego (%)             0.0002   7.97e-05      2.715      0.007    6.02e-05       0.000\n",
      "Wiek firmy (lata)                              -0.0376      0.004     -9.314      0.000      -0.045      -0.030\n",
      "===============================================================================================================\n"
     ]
    }
   ],
   "source": [
    "# Dropping feature with highest p-value\n",
    "X = df.drop(columns=['Unnamed: 0', 'into_default', 'Wskaźnik rotacji kapitału obrotowego (x)', 'Obrót aktywów bieżących (x)'])\n",
    "X_const = sm.add_constant(X)\n",
    "y = df['into_default']\n",
    "# Logistic regression fitting \n",
    "logit_model = sm.Logit(y, X_const)\n",
    "result = logit_model.fit()\n",
    "\n",
    "# Displaying summary of the model \n",
    "print(result.summary())"
   ]
  },
  {
   "cell_type": "code",
   "execution_count": 46,
   "metadata": {},
   "outputs": [
    {
     "name": "stdout",
     "output_type": "stream",
     "text": [
      "Optimization terminated successfully.\n",
      "         Current function value: 0.228845\n",
      "         Iterations 9\n",
      "                           Logit Regression Results                           \n",
      "==============================================================================\n",
      "Dep. Variable:           into_default   No. Observations:                33986\n",
      "Model:                          Logit   Df Residuals:                    33977\n",
      "Method:                           MLE   Df Model:                            8\n",
      "Date:                Thu, 29 May 2025   Pseudo R-squ.:                 0.03872\n",
      "Time:                        15:59:30   Log-Likelihood:                -7777.5\n",
      "converged:                       True   LL-Null:                       -8090.8\n",
      "Covariance Type:            nonrobust   LLR p-value:                4.531e-130\n",
      "===============================================================================================================\n",
      "                                                  coef    std err          z      P>|z|      [0.025      0.975]\n",
      "---------------------------------------------------------------------------------------------------------------\n",
      "const                                          -1.9008      0.065    -29.461      0.000      -2.027      -1.774\n",
      "Aktywa razem/Kapitał własnyj (%)             5.053e-05   2.01e-05      2.508      0.012     1.1e-05       9e-05\n",
      "Kapitał obrotowy                            -2.915e-07   2.44e-08    -11.943      0.000   -3.39e-07   -2.44e-07\n",
      "Gotówka netto                               -1.939e-07   1.26e-08    -15.432      0.000   -2.19e-07   -1.69e-07\n",
      "Stopa zwrotu z kapitału własnego (ROE) (%)     -0.0002   6.05e-05     -2.522      0.012      -0.000    -3.4e-05\n",
      "Kapitał własny ogółem                       -1.044e-07   9.87e-09    -10.581      0.000   -1.24e-07   -8.51e-08\n",
      "Operacyjny wskaźnik rentowności aktywów (%)    -0.0002   8.14e-05     -2.232      0.026      -0.000   -2.22e-05\n",
      "Zwrot z kapitału zaangażowanego (%)             0.0002   7.97e-05      2.681      0.007    5.75e-05       0.000\n",
      "Wiek firmy (lata)                              -0.0376      0.004     -9.313      0.000      -0.045      -0.030\n",
      "===============================================================================================================\n"
     ]
    }
   ],
   "source": [
    "# Dropping feature with highest p-value\n",
    "X = df.drop(columns=['Unnamed: 0', 'into_default', 'Wskaźnik rotacji kapitału obrotowego (x)', \n",
    "                     'Obrót aktywów bieżących (x)', 'Wskaźnik rotacji aktywów (x)'])\n",
    "X_const = sm.add_constant(X)\n",
    "y = df['into_default']\n",
    "# Logistic regression fitting \n",
    "logit_model = sm.Logit(y, X_const)\n",
    "result = logit_model.fit()\n",
    "\n",
    "# Displaying summary of the model \n",
    "print(result.summary())"
   ]
  },
  {
   "cell_type": "markdown",
   "metadata": {},
   "source": [
    "### AUC-ROC Calculation "
   ]
  },
  {
   "cell_type": "code",
   "execution_count": 47,
   "metadata": {},
   "outputs": [
    {
     "name": "stdout",
     "output_type": "stream",
     "text": [
      "AUC-ROC: 0.6946\n"
     ]
    }
   ],
   "source": [
    "# Predicting target \n",
    "y_pred_prob = result.predict(X_const)\n",
    "\n",
    "# AUC-ROC calculation \n",
    "auc_roc = roc_auc_score(y, y_pred_prob)\n",
    "\n",
    "print(f'AUC-ROC: {auc_roc:.4f}')"
   ]
  },
  {
   "cell_type": "markdown",
   "metadata": {},
   "source": [
    "### Testing the Model "
   ]
  },
  {
   "cell_type": "code",
   "execution_count": 48,
   "metadata": {},
   "outputs": [],
   "source": [
    "# Reading the data and preparing dependent and independent variables \n",
    "df_test = pd.read_csv(DATA_PATH /'test.csv')\n",
    "X_test = df_test.drop(columns=['Unnamed: 0', 'into_default', 'Wskaźnik rotacji kapitału obrotowego (x)', \n",
    "                          'Obrót aktywów bieżących (x)', 'Wskaźnik rotacji aktywów (x)'])\n",
    "y_test = df_test['into_default']\n",
    "X_test_const = sm.add_constant(X_test)"
   ]
  },
  {
   "cell_type": "code",
   "execution_count": 49,
   "metadata": {},
   "outputs": [
    {
     "name": "stdout",
     "output_type": "stream",
     "text": [
      "AUC-ROC: 0.6906\n"
     ]
    }
   ],
   "source": [
    "# Predicting target \n",
    "y_test_pred_prob = result.predict(X_test_const)\n",
    "\n",
    "# AUC-ROC calculation \n",
    "auc_roc = roc_auc_score(y_test, y_test_pred_prob)\n",
    "\n",
    "print(f'AUC-ROC: {auc_roc:.4f}')"
   ]
  },
  {
   "cell_type": "markdown",
   "metadata": {},
   "source": [
    "# XGBoost"
   ]
  },
  {
   "cell_type": "code",
   "execution_count": 50,
   "metadata": {},
   "outputs": [],
   "source": [
    "# Reading the data and preparing dependent and independent variables \n",
    "df = pd.read_csv(DATA_PATH / 'train.csv')\n",
    "X = df.drop(columns=['Unnamed: 0', 'into_default'])\n",
    "y = df['into_default']"
   ]
  },
  {
   "cell_type": "code",
   "execution_count": 51,
   "metadata": {},
   "outputs": [
    {
     "name": "stdout",
     "output_type": "stream",
     "text": [
      "Index(['Total assets / Equity (%)', 'Working capital turnover ratio (x)',\n",
      "       'Working capital', 'Current assets turnover (x)', 'Net cash',\n",
      "       'Return on equity (ROE) (%)', 'Total equity',\n",
      "       'Asset turnover ratio (x)', 'Operating return on assets (%)',\n",
      "       'Return on invested capital (%)', 'Company age (years)'],\n",
      "      dtype='object')\n"
     ]
    }
   ],
   "source": [
    "# Translation\n",
    "column_translation = {\n",
    "    'Aktywa razem/Kapitał własnyj (%)': 'Total assets / Equity (%)',\n",
    "    'Wskaźnik rotacji kapitału obrotowego (x)': 'Working capital turnover ratio (x)',\n",
    "    'Kapitał obrotowy': 'Working capital',\n",
    "    'Obrót aktywów bieżących (x)': 'Current assets turnover (x)',\n",
    "    'Gotówka netto': 'Net cash',\n",
    "    'Stopa zwrotu z kapitału własnego (ROE) (%)': 'Return on equity (ROE) (%)',\n",
    "    'Kapitał własny ogółem': 'Total equity',\n",
    "    'Wskaźnik rotacji aktywów (x)': 'Asset turnover ratio (x)',\n",
    "    'Operacyjny wskaźnik rentowności aktywów (%)': 'Operating return on assets (%)',\n",
    "    'Zwrot z kapitału zaangażowanego (%)': 'Return on invested capital (%)',\n",
    "    'Wiek firmy (lata)': 'Company age (years)'\n",
    "}\n",
    "\n",
    "X.rename(columns=column_translation, inplace=True)\n",
    "\n",
    "print(X.columns)"
   ]
  },
  {
   "cell_type": "markdown",
   "metadata": {},
   "source": [
    "### Hyperparameter Tuning - Grid Search"
   ]
  },
  {
   "cell_type": "code",
   "execution_count": 52,
   "metadata": {},
   "outputs": [
    {
     "name": "stdout",
     "output_type": "stream",
     "text": [
      "Fitting 5 folds for each of 243 candidates, totalling 1215 fits\n",
      "Best parameters for XGBoost: {'colsample_bytree': 0.8, 'learning_rate': 0.1, 'max_depth': 5, 'n_estimators': 50, 'subsample': 0.8}\n",
      "Best ROC-AUC score for XGBoost: 0.8042725923551991\n"
     ]
    }
   ],
   "source": [
    "# Defining hyperparameter grid for XGBoost\n",
    "param_grid_xgb = {\n",
    "    'n_estimators': [10, 50, 100],\n",
    "    'max_depth': [3, 5, 10],\n",
    "    'learning_rate': [0.01, 0.1, 0.2],\n",
    "    'subsample': [0.6, 0.8, 1.0],\n",
    "    'colsample_bytree': [0.6, 0.8, 1.0]\n",
    "}\n",
    "\n",
    "# Initializing the XGBoost classifier\n",
    "xgb = XGBClassifier(random_state=37, eval_metric='logloss', verbosity=0, use_label_encoder=False)\n",
    "\n",
    "# Setting up GridSearchCV\n",
    "grid_search_xgb = GridSearchCV(\n",
    "    estimator=xgb,\n",
    "    param_grid=param_grid_xgb,\n",
    "    scoring='roc_auc',  \n",
    "    cv=5,\n",
    "    verbose=1,\n",
    "    n_jobs=-1,\n",
    "    refit=True  \n",
    ")\n",
    "\n",
    "# Fitting the model to the resampled data\n",
    "grid_search_xgb.fit(X, y)\n",
    "\n",
    "# Printing best parameters and F1 score\n",
    "print(\"Best parameters for XGBoost:\", grid_search_xgb.best_params_)\n",
    "print(\"Best ROC-AUC score for XGBoost:\", grid_search_xgb.best_score_)"
   ]
  },
  {
   "cell_type": "code",
   "execution_count": 53,
   "metadata": {},
   "outputs": [],
   "source": [
    "# Assigning best XGBoost model \n",
    "best_xgb = grid_search_xgb.best_estimator_\n",
    "y_pred_proba_xgb = best_xgb.predict_proba(X)[:, 1]"
   ]
  },
  {
   "cell_type": "markdown",
   "metadata": {},
   "source": [
    "### Hyperparameter Tuning - Random Search"
   ]
  },
  {
   "cell_type": "code",
   "execution_count": 54,
   "metadata": {},
   "outputs": [
    {
     "name": "stdout",
     "output_type": "stream",
     "text": [
      "Fitting 5 folds for each of 200 candidates, totalling 1000 fits\n",
      "Best parameters for XGBoost (Random Search): {'colsample_bytree': 0.6169224222124968, 'gamma': 0.6798372968803684, 'learning_rate': 0.07940525119049888, 'max_depth': 8, 'n_estimators': 77, 'reg_alpha': 7.052251765229659, 'reg_lambda': 8.414441820976549, 'subsample': 0.8902303305151654}\n",
      "Best ROC-AUC for XGBoost (Random Search): 0.8034535741784572\n"
     ]
    }
   ],
   "source": [
    "# Defining the hyperparameter space for XGBoost\n",
    "param_distributions_xgb = {\n",
    "    'n_estimators': randint(10, 100), \n",
    "    'max_depth': randint(3, 20), \n",
    "    'learning_rate': uniform(0.01, 0.3), \n",
    "    'subsample': uniform(0.6, 0.4), \n",
    "    'colsample_bytree': uniform(0.6, 0.4), \n",
    "    'gamma': uniform(0, 5), \n",
    "    'reg_alpha': uniform(0, 10), \n",
    "    'reg_lambda': uniform(0, 10) \n",
    "}\n",
    "\n",
    "# Initializing the XGBoost classifier\n",
    "xgb = XGBClassifier(random_state=37, eval_metric='logloss')\n",
    "\n",
    "# Setting up RandomizedSearchCV\n",
    "random_search_xgb = RandomizedSearchCV(\n",
    "    estimator=xgb,\n",
    "    param_distributions=param_distributions_xgb,\n",
    "    n_iter=200, \n",
    "    scoring='roc_auc', \n",
    "    cv=5, \n",
    "    verbose=2,\n",
    "    random_state=37,\n",
    "    n_jobs=-1 \n",
    ")\n",
    "\n",
    "# Fitting RandomizedSearchCV to the resampled data\n",
    "random_search_xgb.fit(X, y)\n",
    "\n",
    "# Printing the best parameters and F1 score\n",
    "print(\"Best parameters for XGBoost (Random Search):\", random_search_xgb.best_params_)\n",
    "print(\"Best ROC-AUC for XGBoost (Random Search):\", random_search_xgb.best_score_)"
   ]
  },
  {
   "cell_type": "code",
   "execution_count": 55,
   "metadata": {},
   "outputs": [],
   "source": [
    "# Assigning best XGBoost model \n",
    "best_random_xgb = random_search_xgb.best_estimator_\n",
    "y_pred_proba_random_xgb = best_random_xgb.predict_proba(X)[:, 1]"
   ]
  },
  {
   "cell_type": "markdown",
   "metadata": {},
   "source": [
    "### Testing the Models"
   ]
  },
  {
   "cell_type": "code",
   "execution_count": 56,
   "metadata": {},
   "outputs": [],
   "source": [
    "# Reading the data and preparing dependent and independent variables \n",
    "df_test = pd.read_csv(DATA_PATH / 'test.csv')\n",
    "X_test = df_test.drop(columns=['Unnamed: 0', 'into_default'])\n",
    "y_test = df_test['into_default']\n",
    "X_test.rename(columns=column_translation, inplace=True)"
   ]
  },
  {
   "cell_type": "code",
   "execution_count": 57,
   "metadata": {},
   "outputs": [
    {
     "name": "stdout",
     "output_type": "stream",
     "text": [
      "AUC-ROC: 0.7849\n"
     ]
    }
   ],
   "source": [
    "y_pred_proba_xgb = best_xgb.predict_proba(X_test)[:, 1]\n",
    "\n",
    "auc_roc = roc_auc_score(y_test, y_pred_proba_xgb)\n",
    "print(f'AUC-ROC: {auc_roc:.4f}')"
   ]
  },
  {
   "cell_type": "code",
   "execution_count": 58,
   "metadata": {},
   "outputs": [
    {
     "name": "stdout",
     "output_type": "stream",
     "text": [
      "AUC-ROC: 0.7879\n"
     ]
    }
   ],
   "source": [
    "y_pred_proba_random_xgb = best_random_xgb.predict_proba(X_test)[:, 1]\n",
    "auc_roc = roc_auc_score(y_test, y_pred_proba_random_xgb)\n",
    "print(f'AUC-ROC: {auc_roc:.4f}')"
   ]
  },
  {
   "cell_type": "markdown",
   "metadata": {},
   "source": [
    "# Saving Models"
   ]
  },
  {
   "cell_type": "code",
   "execution_count": 59,
   "metadata": {},
   "outputs": [],
   "source": [
    "# Logistic Regression\n",
    "with open(\"models/logistic_model.pkl\", \"wb\") as f:\n",
    "    pickle.dump(logit_model, f)\n",
    "\n",
    "# XGBoost\n",
    "with open(\"models/xgb_model.pkl\", \"wb\") as f:\n",
    "    pickle.dump(best_random_xgb, f)"
   ]
  }
 ],
 "metadata": {
  "kernelspec": {
   "display_name": "base",
   "language": "python",
   "name": "python3"
  },
  "language_info": {
   "codemirror_mode": {
    "name": "ipython",
    "version": 3
   },
   "file_extension": ".py",
   "mimetype": "text/x-python",
   "name": "python",
   "nbconvert_exporter": "python",
   "pygments_lexer": "ipython3",
   "version": "3.10.16"
  },
  "orig_nbformat": 4
 },
 "nbformat": 4,
 "nbformat_minor": 2
}
